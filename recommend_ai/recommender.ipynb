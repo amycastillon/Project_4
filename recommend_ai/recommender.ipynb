{
  "cells": [
    {
      "cell_type": "code",
      "execution_count": null,
      "metadata": {
        "id": "-PmWT7T-n9ot"
      },
      "outputs": [],
      "source": [
        "\n",
        "import pandas as pd\n",
        "from sklearn.model_selection import train_test_split\n",
        "from sklearn.preprocessing import StandardScaler\n",
        "import tensorflow as tf"
      ]
    },
    {
      "cell_type": "code",
      "execution_count": null,
      "metadata": {
        "id": "IcIdRvX4n9o1"
      },
      "outputs": [],
      "source": [
        "# df = pd.read_csv('clean_games.csv')\n",
        "# df.to_json('full_json.json')"
      ]
    },
    {
      "cell_type": "code",
      "execution_count": null,
      "metadata": {
        "colab": {
          "base_uri": "https://localhost:8080/",
          "height": 1000
        },
        "id": "_MWLJg6Wn9o7",
        "outputId": "cd463503-d001-4606-b01a-9824bbfa678b"
      },
      "outputs": [],
      "source": [
        "df = pd.read_json('full_json.json')\n",
        "df"
      ]
    },
    {
      "cell_type": "code",
      "execution_count": null,
      "metadata": {
        "id": "HJzajsRZn9o8"
      },
      "outputs": [],
      "source": [
        "liked_games = df.sample(n=10)\n",
        "likes = []\n",
        "for i in range(10):\n",
        "    likes.append(1)\n",
        "liked_games['like_status'] = likes"
      ]
    },
    {
      "cell_type": "code",
      "execution_count": null,
      "metadata": {
        "id": "KLPhbYugn9o-"
      },
      "outputs": [],
      "source": [
        "non_liked_games = df.sample(n=20)\n",
        "non_likes = []\n",
        "for i in range(20):\n",
        "    non_likes.append(0)\n",
        "non_liked_games['like_status'] = non_likes"
      ]
    },
    {
      "cell_type": "code",
      "execution_count": null,
      "metadata": {
        "colab": {
          "base_uri": "https://localhost:8080/",
          "height": 687
        },
        "id": "vynLD5FUn9o_",
        "outputId": "33f3d20f-da94-4fa1-8f09-3d1da6298fa6"
      },
      "outputs": [],
      "source": [
        "train_df = pd.concat([non_liked_games,liked_games], ignore_index=True)\n",
        "train_df.head(5)"
      ]
    },
    {
      "cell_type": "code",
      "execution_count": null,
      "metadata": {
        "colab": {
          "base_uri": "https://localhost:8080/",
          "height": 565
        },
        "id": "sTXCipDkn9pC",
        "outputId": "30e03755-1784-42fa-804e-52f3d6cc4636"
      },
      "outputs": [],
      "source": [
        "train_df.drop(['Unnamed: 0','summary'], axis=1,inplace=True)\n",
        "train_df.head()"
      ]
    },
    {
      "cell_type": "code",
      "execution_count": null,
      "metadata": {
        "id": "Ge-Fg0d0tnVt"
      },
      "outputs": [],
      "source": [
        "train_df.drop_duplicates(inplace=True)"
      ]
    },
    {
      "cell_type": "code",
      "execution_count": null,
      "metadata": {
        "id": "6BVf_6P6n9pF"
      },
      "outputs": [],
      "source": [
        "dummy_df = pd.get_dummies(train_df)\n",
        "the_input_dim = dummy_df.shape[1] - 1"
      ]
    },
    {
      "cell_type": "code",
      "execution_count": null,
      "metadata": {
        "id": "yChivBGqn9pH"
      },
      "outputs": [],
      "source": [
        "X = dummy_df.drop('like_status',axis=1)\n",
        "y = dummy_df['like_status']\n",
        "\n",
        "X_train, X_test, y_train, y_test = train_test_split(X, y, random_state=42, stratify=y)"
      ]
    },
    {
      "cell_type": "code",
      "execution_count": null,
      "metadata": {
        "id": "B3nt6D-Npphh"
      },
      "outputs": [],
      "source": [
        "scaler = StandardScaler()\n",
        "\n",
        "X_scaler = scaler.fit(X_train)\n",
        "\n",
        "X_train_scaled = X_scaler.transform(X_train)\n",
        "X_test_scaled = X_scaler.transform(X_test)"
      ]
    },
    {
      "cell_type": "code",
      "execution_count": null,
      "metadata": {
        "colab": {
          "base_uri": "https://localhost:8080/"
        },
        "id": "C-YrozKBqw-o",
        "outputId": "a90b4c56-c594-46a5-8b70-88208433ad53"
      },
      "outputs": [],
      "source": [
        "nn = tf.keras.models.Sequential()\n",
        "\n",
        "# First hidden layer\n",
        "nn.add(tf.keras.layers.Dense(units=60, activation='relu', input_dim=the_input_dim))\n",
        "\n",
        "# Second hidden layer\n",
        "nn.add(tf.keras.layers.Dense(units=30, activation='relu'))\n",
        "\n",
        "# Output layer\n",
        "nn.add(tf.keras.layers.Dense(units=1, activation='sigmoid'))\n",
        "\n",
        "# Check the structure of the model\n",
        "nn.summary()"
      ]
    },
    {
      "cell_type": "code",
      "execution_count": null,
      "metadata": {
        "id": "s3-3bEGBsklX"
      },
      "outputs": [],
      "source": [
        "nn.compile(loss=\"binary_crossentropy\", optimizer=\"adam\", metrics=[\"accuracy\"])"
      ]
    },
    {
      "cell_type": "code",
      "execution_count": null,
      "metadata": {
        "colab": {
          "base_uri": "https://localhost:8080/"
        },
        "id": "lsoGFwu4uLo4",
        "outputId": "70408eb9-e8fd-4b4f-a250-65a5dcc65b9b"
      },
      "outputs": [],
      "source": [
        "fit_model = nn.fit(X_train_scaled, y_train, epochs=100)"
      ]
    },
    {
      "cell_type": "code",
      "execution_count": null,
      "metadata": {
        "colab": {
          "base_uri": "https://localhost:8080/"
        },
        "id": "cTLtWqFuwXf6",
        "outputId": "07d038ff-19d2-459f-c3c6-d3edc8c82897"
      },
      "outputs": [],
      "source": [
        "model_loss, model_accuracy = nn.evaluate(X_test_scaled,y_test,verbose=2)\n",
        "print(f\"Loss: {model_loss}, Accuracy: {model_accuracy}\")"
      ]
    },
    {
      "cell_type": "code",
      "execution_count": null,
      "metadata": {
        "id": "4EW9FuHfwaU8"
      },
      "outputs": [],
      "source": []
    }
  ],
  "metadata": {
    "colab": {
      "name": "recommender.ipynb",
      "provenance": []
    },
    "interpreter": {
      "hash": "0a98d3f48807019338b5ca256bf38773e3bc95e7b827ddda75bb23ca59ff5799"
    },
    "kernelspec": {
      "display_name": "Python 3.6.10 ('PythonData')",
      "language": "python",
      "name": "python3"
    },
    "language_info": {
      "codemirror_mode": {
        "name": "ipython",
        "version": 3
      },
      "file_extension": ".py",
      "mimetype": "text/x-python",
      "name": "python",
      "nbconvert_exporter": "python",
      "pygments_lexer": "ipython3",
      "version": "3.6.10"
    },
    "orig_nbformat": 4
  },
  "nbformat": 4,
  "nbformat_minor": 0
}
