{
  "cells": [
    {
      "cell_type": "code",
      "execution_count": null,
      "metadata": {
        "id": "Jt_AVt5PxPyv"
      },
      "outputs": [],
      "source": [
        "import pandas as pd"
      ]
    },
    {
      "cell_type": "code",
      "execution_count": null,
      "metadata": {
        "id": "wPnno6rxzanq"
      },
      "outputs": [],
      "source": [
        "df = pd.read_json(r'..\\static\\json_files\\full_json.json').dropna().drop_duplicates().drop('Unnamed: 0',axis=1)   \n",
        "df.head(3)"
      ]
    },
    {
      "cell_type": "code",
      "execution_count": 39,
      "metadata": {
        "id": "GavnjmU_zdaT"
      },
      "outputs": [
        {
          "data": {
            "text/html": [
              "<div>\n",
              "<style scoped>\n",
              "    .dataframe tbody tr th:only-of-type {\n",
              "        vertical-align: middle;\n",
              "    }\n",
              "\n",
              "    .dataframe tbody tr th {\n",
              "        vertical-align: top;\n",
              "    }\n",
              "\n",
              "    .dataframe thead th {\n",
              "        text-align: right;\n",
              "    }\n",
              "</style>\n",
              "<table border=\"1\" class=\"dataframe\">\n",
              "  <thead>\n",
              "    <tr style=\"text-align: right;\">\n",
              "      <th></th>\n",
              "    </tr>\n",
              "  </thead>\n",
              "  <tbody>\n",
              "  </tbody>\n",
              "</table>\n",
              "</div>"
            ],
            "text/plain": [
              "Empty DataFrame\n",
              "Columns: []\n",
              "Index: []"
            ]
          },
          "execution_count": 39,
          "metadata": {},
          "output_type": "execute_result"
        }
      ],
      "source": [
        "search = {\n",
        "    'esrb_rating': ['E','E10+'],\n",
        "    'platforms':['Switch','Wii'],\n",
        "    'title': ['mario'],   \n",
        "    'genre': ['First-Person','Shooter']\n",
        "}\n",
        "\n",
        "filtered_result = pd.DataFrame({})\n",
        "final_result = pd.DataFrame({})\n",
        "# temp_df = df\n",
        "first_run = True\n",
        "for category in search:\n",
        "    # print(category)\n",
        "    for term in search[f'{category}']:\n",
        "        term = term.strip()\n",
        "        # print(term)\n",
        "        if(category == 'esrb_rating' or 'platforms'):\n",
        "            search_result = df.loc[df[category] == term]\n",
        "            filtered_result = pd.concat([filtered_result,search_result])\n",
        "        elif(category == 'title'):\n",
        "            search_result = filtered_result.loc[filtered_result[category].str.contains(f'term',case=False)]\n",
        "            final_result = pd.concat([final_result,search_result])\n",
        "        else:\n",
        "            search_result = df.loc[df[category] == term]\n",
        "            final_result = pd.concat([final_result,search_result])\n",
        "\n",
        "\n",
        "        # print(term)\n",
        "# complete_df\n",
        "final_result\n",
        "\n",
        "\n"
      ]
    },
    {
      "cell_type": "code",
      "execution_count": null,
      "metadata": {},
      "outputs": [],
      "source": [
        "    \n",
        "        #     if(first_run):\n",
        "        #         search_result = df.loc[df[category].str.contains(f\"{term}\", case=False)]\n",
        "        #         temp_df = search_result\n",
        "        #         first_run = False\n",
        "        #     else:\n",
        "        #         search_result = df.loc[df[category].str.contains(f\"{term}\", case=False)]           \n",
        "        #         temp_df = pd.concat([temp_df,search_result]).drop_duplicates()\n",
        "        # else:\n",
        "        #     search_result = temp_df.loc[temp_df[category].str.contains(f\"{term}\", case=False)]\n",
        "        #     complete_df = pd.concat([temp_df,search_result]).drop_duplicates()"
      ]
    },
    {
      "cell_type": "code",
      "execution_count": null,
      "metadata": {},
      "outputs": [],
      "source": [
        "search_result1 = df.loc[df['esrb_rating'] == 'E']\n",
        "# search_result\n",
        "search_result2 = df.loc[df['esrb_rating'] == 'E10+']\n",
        "# search_result2\n",
        "combo = pd.concat([search_result1,search_result2]).drop_duplicates()\n",
        "# combo\n",
        "search_result3 = combo.loc[combo['platforms'] == 'Switch']\n",
        "# search_result3\n",
        "search_result4 = combo.loc[combo['platforms'] == 'Wii']\n",
        "# search_result4\n",
        "\n",
        "combo2 = pd.concat([search_result3,search_result4]).drop_duplicates()\n",
        "# combo2\n",
        "\n",
        "combo3 = pd.concat([combo,combo2])\n",
        "combo3"
      ]
    },
    {
      "cell_type": "code",
      "execution_count": null,
      "metadata": {
        "colab": {
          "base_uri": "https://localhost:8080/"
        },
        "id": "E3OKDoaV3iHN",
        "outputId": "89be133a-53d6-475a-dd60-e8af1b5d1a06"
      },
      "outputs": [],
      "source": [
        "# nintendo_plats = ['DS', 'Wii', 'GBA', 'GC', '3DS', 'N64', 'SNES', 'WiiU', 'NES', 'GB']\n",
        "# sony_plats = ['PS2', 'PS3', 'PSP', 'PS', 'PSV', 'PS4']\n",
        "# microsoft_plats = ['X360', 'XB', 'XOne']\n",
        "\n",
        "# temp = True\n",
        "\n",
        "# pref = []\n",
        "\n",
        "# while temp == True:\n",
        "#   console_fam_pref = input('Do you like (n)intendo, (s)ony, or (m)icrosoft consoles? (na) for none of the above')\n",
        "#   if console_fam_pref == 'na':\n",
        "#     break\n",
        "\n",
        "#   if console_fam_pref == 'n':\n",
        "#     print(nintendo_plats)\n",
        "    \n",
        "#     while temp == True:\n",
        "#       console_pref = input('Which consoles have you played on? enter (done) when finished')\n",
        "#       if console_pref == 'done':\n",
        "#         break\n",
        "#       else:\n",
        "#         pref.append(console_pref)\n",
        "\n",
        "# pref\n",
        "\n"
      ]
    },
    {
      "cell_type": "code",
      "execution_count": null,
      "metadata": {
        "id": "_RVYZdOpxcBP"
      },
      "outputs": [],
      "source": [
        "# from re import search\n",
        "\n",
        "\n",
        "# more_search = True\n",
        "# first_run = True\n",
        "\n",
        "# while more_search == True:\n",
        "#   chosen_column = int(input('What category would you like to input?\\n1)Name, 2)Platform, 3)Year, 4)Genre, or 5)Publisher '))\n",
        "#   # print(chosen_column)\n",
        "#   search_term = input('Enter search term. ')\n",
        "#   # print(search_term)\n",
        "#   if first_run:\n",
        "#     search_result = df.loc[df.iloc[:,chosen_column].str.contains(search_term, case=False)]\n",
        "#     # print(len(search_result))\n",
        "#   else:\n",
        "#     temp_result = df.loc[df.iloc[:,chosen_column].str.contains(search_term, case=False)]\n",
        "#     # print(len(temp_result))\n",
        "#     search_result = pd.concat([search_result,temp_result]).drop_duplicates()\n",
        "#     # print(len(search_result))\n",
        "\n",
        "#   if len(search_result) == 0:\n",
        "#     print(\"Sorry, that isn't real please try again.\")\n",
        "  \n",
        "#   if input('Do you have additional preferences to set? (y)es / (n)o' ) != 'y':\n",
        "#     more_search = False\n",
        "#   first_run = False\n",
        "\n",
        "\n",
        "# search_result\n"
      ]
    },
    {
      "cell_type": "code",
      "execution_count": null,
      "metadata": {
        "id": "FB2m8YzGDMdZ"
      },
      "outputs": [],
      "source": [
        "# search_result.sample(n=10)"
      ]
    },
    {
      "cell_type": "code",
      "execution_count": null,
      "metadata": {
        "id": "oAzxAxICzGIq"
      },
      "outputs": [],
      "source": [
        "df = pd.read_json(r'..\\app\\static\\json_files\\full_json.json')\n",
        "df\n",
        "# title, genre, platforms, esrb_rating\n",
        "#[['title','genre','platforms','esrb_rating']]"
      ]
    },
    {
      "cell_type": "code",
      "execution_count": null,
      "metadata": {},
      "outputs": [],
      "source": [
        "df.dropna(inplace=True)\n",
        "# df"
      ]
    },
    {
      "cell_type": "code",
      "execution_count": null,
      "metadata": {},
      "outputs": [],
      "source": [
        "search_result_1 = df.loc[df[\"title\"].str.contains(f\"mario\", case=False)]\n",
        "# search_result_1"
      ]
    },
    {
      "cell_type": "code",
      "execution_count": null,
      "metadata": {},
      "outputs": [],
      "source": [
        "search_result_2 = df.loc[df[\"genre\"].str.contains(f\"2D\", case=False)]\n",
        "# search_result_2\n"
      ]
    },
    {
      "cell_type": "code",
      "execution_count": null,
      "metadata": {},
      "outputs": [],
      "source": [
        "final_result = pd.concat([search_result_1,search_result_2])\n",
        "# final_result"
      ]
    },
    {
      "cell_type": "code",
      "execution_count": null,
      "metadata": {},
      "outputs": [],
      "source": [
        "final_result.drop_duplicates(inplace=True)\n",
        "# final_result"
      ]
    },
    {
      "cell_type": "code",
      "execution_count": null,
      "metadata": {},
      "outputs": [],
      "source": [
        "final_result = final_result.sort_values(by='userscore', ascending=False).head(100)"
      ]
    },
    {
      "cell_type": "code",
      "execution_count": null,
      "metadata": {},
      "outputs": [],
      "source": [
        "final_result.sample(n=30)['title'].to_list()\n"
      ]
    }
  ],
  "metadata": {
    "colab": {
      "name": "videogame_search.ipynb",
      "provenance": []
    },
    "interpreter": {
      "hash": "0a98d3f48807019338b5ca256bf38773e3bc95e7b827ddda75bb23ca59ff5799"
    },
    "kernelspec": {
      "display_name": "Python 3.6.10 ('PythonData')",
      "language": "python",
      "name": "python3"
    },
    "language_info": {
      "codemirror_mode": {
        "name": "ipython",
        "version": 3
      },
      "file_extension": ".py",
      "mimetype": "text/x-python",
      "name": "python",
      "nbconvert_exporter": "python",
      "pygments_lexer": "ipython3",
      "version": "3.6.10"
    }
  },
  "nbformat": 4,
  "nbformat_minor": 0
}
