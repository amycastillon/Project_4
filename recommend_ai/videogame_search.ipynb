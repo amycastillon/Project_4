{
  "cells": [
    {
      "cell_type": "code",
      "execution_count": 9,
      "metadata": {
        "id": "Jt_AVt5PxPyv"
      },
      "outputs": [],
      "source": [
        "import pandas as pd"
      ]
    },
    {
      "cell_type": "code",
      "execution_count": 10,
      "metadata": {
        "id": "wPnno6rxzanq"
      },
      "outputs": [
        {
          "data": {
            "text/plain": [
              "Index(['Unnamed: 0', 'title', 'release_date', 'genre', 'platforms',\n",
              "       'developer', 'esrb_rating', 'ESRBs', 'metascore', 'userscore',\n",
              "       'critic_reviews', 'user_reviews', 'num_players', 'summary'],\n",
              "      dtype='object')"
            ]
          },
          "execution_count": 10,
          "metadata": {},
          "output_type": "execute_result"
        }
      ],
      "source": [
        "df = pd.read_csv('Metacritic Database\\metacritic_games_master.csv\\metacritic_games_master.csv')\n",
        "df.columns"
      ]
    },
    {
      "cell_type": "code",
      "execution_count": 15,
      "metadata": {
        "id": "GavnjmU_zdaT"
      },
      "outputs": [],
      "source": [
        "# plat_list = df['platforms'].value_counts().index.to_list()\n",
        "# # genre_list = df['Genre'].value_counts().index.to_list()\n",
        "# dev_list = df['developer'].value_counts()[:25].index.to_list()\n"
      ]
    },
    {
      "cell_type": "code",
      "execution_count": 16,
      "metadata": {},
      "outputs": [
        {
          "ename": "UnicodeEncodeError",
          "evalue": "'charmap' codec can't encode characters in position 1067481-1067487: character maps to <undefined>",
          "output_type": "error",
          "traceback": [
            "\u001b[1;31m---------------------------------------------------------------------------\u001b[0m",
            "\u001b[1;31mUnicodeEncodeError\u001b[0m                        Traceback (most recent call last)",
            "\u001b[1;32m<ipython-input-16-0e7229923d24>\u001b[0m in \u001b[0;36m<module>\u001b[1;34m\u001b[0m\n\u001b[0;32m      2\u001b[0m \u001b[1;33m\u001b[0m\u001b[0m\n\u001b[0;32m      3\u001b[0m \u001b[0mtext_file\u001b[0m \u001b[1;33m=\u001b[0m \u001b[0mopen\u001b[0m\u001b[1;33m(\u001b[0m\u001b[1;34m'index.html'\u001b[0m\u001b[1;33m,\u001b[0m \u001b[1;34m'w'\u001b[0m\u001b[1;33m)\u001b[0m\u001b[1;33m\u001b[0m\u001b[1;33m\u001b[0m\u001b[0m\n\u001b[1;32m----> 4\u001b[1;33m \u001b[0mtext_file\u001b[0m\u001b[1;33m.\u001b[0m\u001b[0mwrite\u001b[0m\u001b[1;33m(\u001b[0m\u001b[0mhtml\u001b[0m\u001b[1;33m)\u001b[0m\u001b[1;33m\u001b[0m\u001b[1;33m\u001b[0m\u001b[0m\n\u001b[0m\u001b[0;32m      5\u001b[0m \u001b[0mtext_file\u001b[0m\u001b[1;33m.\u001b[0m\u001b[0mclose\u001b[0m\u001b[1;33m(\u001b[0m\u001b[1;33m)\u001b[0m\u001b[1;33m\u001b[0m\u001b[1;33m\u001b[0m\u001b[0m\n",
            "\u001b[1;32mc:\\Users\\irish\\Anaconda3\\envs\\PythonData\\lib\\encodings\\cp1252.py\u001b[0m in \u001b[0;36mencode\u001b[1;34m(self, input, final)\u001b[0m\n\u001b[0;32m     17\u001b[0m \u001b[1;32mclass\u001b[0m \u001b[0mIncrementalEncoder\u001b[0m\u001b[1;33m(\u001b[0m\u001b[0mcodecs\u001b[0m\u001b[1;33m.\u001b[0m\u001b[0mIncrementalEncoder\u001b[0m\u001b[1;33m)\u001b[0m\u001b[1;33m:\u001b[0m\u001b[1;33m\u001b[0m\u001b[1;33m\u001b[0m\u001b[0m\n\u001b[0;32m     18\u001b[0m     \u001b[1;32mdef\u001b[0m \u001b[0mencode\u001b[0m\u001b[1;33m(\u001b[0m\u001b[0mself\u001b[0m\u001b[1;33m,\u001b[0m \u001b[0minput\u001b[0m\u001b[1;33m,\u001b[0m \u001b[0mfinal\u001b[0m\u001b[1;33m=\u001b[0m\u001b[1;32mFalse\u001b[0m\u001b[1;33m)\u001b[0m\u001b[1;33m:\u001b[0m\u001b[1;33m\u001b[0m\u001b[1;33m\u001b[0m\u001b[0m\n\u001b[1;32m---> 19\u001b[1;33m         \u001b[1;32mreturn\u001b[0m \u001b[0mcodecs\u001b[0m\u001b[1;33m.\u001b[0m\u001b[0mcharmap_encode\u001b[0m\u001b[1;33m(\u001b[0m\u001b[0minput\u001b[0m\u001b[1;33m,\u001b[0m\u001b[0mself\u001b[0m\u001b[1;33m.\u001b[0m\u001b[0merrors\u001b[0m\u001b[1;33m,\u001b[0m\u001b[0mencoding_table\u001b[0m\u001b[1;33m)\u001b[0m\u001b[1;33m[\u001b[0m\u001b[1;36m0\u001b[0m\u001b[1;33m]\u001b[0m\u001b[1;33m\u001b[0m\u001b[1;33m\u001b[0m\u001b[0m\n\u001b[0m\u001b[0;32m     20\u001b[0m \u001b[1;33m\u001b[0m\u001b[0m\n\u001b[0;32m     21\u001b[0m \u001b[1;32mclass\u001b[0m \u001b[0mIncrementalDecoder\u001b[0m\u001b[1;33m(\u001b[0m\u001b[0mcodecs\u001b[0m\u001b[1;33m.\u001b[0m\u001b[0mIncrementalDecoder\u001b[0m\u001b[1;33m)\u001b[0m\u001b[1;33m:\u001b[0m\u001b[1;33m\u001b[0m\u001b[1;33m\u001b[0m\u001b[0m\n",
            "\u001b[1;31mUnicodeEncodeError\u001b[0m: 'charmap' codec can't encode characters in position 1067481-1067487: character maps to <undefined>"
          ]
        }
      ],
      "source": [
        "# html = df.to_html()\n",
        "\n",
        "# text_file = open('index.html', 'w')\n",
        "# text_file.write(html)\n",
        "# text_file.close()"
      ]
    },
    {
      "cell_type": "code",
      "execution_count": 12,
      "metadata": {
        "colab": {
          "base_uri": "https://localhost:8080/"
        },
        "id": "E3OKDoaV3iHN",
        "outputId": "89be133a-53d6-475a-dd60-e8af1b5d1a06"
      },
      "outputs": [],
      "source": [
        "# nintendo_plats = ['DS', 'Wii', 'GBA', 'GC', '3DS', 'N64', 'SNES', 'WiiU', 'NES', 'GB']\n",
        "# sony_plats = ['PS2', 'PS3', 'PSP', 'PS', 'PSV', 'PS4']\n",
        "# microsoft_plats = ['X360', 'XB', 'XOne']\n",
        "\n",
        "# temp = True\n",
        "\n",
        "# pref = []\n",
        "\n",
        "# while temp == True:\n",
        "#   console_fam_pref = input('Do you like (n)intendo, (s)ony, or (m)icrosoft consoles? (na) for none of the above')\n",
        "#   if console_fam_pref == 'na':\n",
        "#     break\n",
        "\n",
        "#   if console_fam_pref == 'n':\n",
        "#     print(nintendo_plats)\n",
        "    \n",
        "#     while temp == True:\n",
        "#       console_pref = input('Which consoles have you played on? enter (done) when finished')\n",
        "#       if console_pref == 'done':\n",
        "#         break\n",
        "#       else:\n",
        "#         pref.append(console_pref)\n",
        "\n",
        "# pref\n",
        "\n"
      ]
    },
    {
      "cell_type": "code",
      "execution_count": 13,
      "metadata": {
        "id": "_RVYZdOpxcBP"
      },
      "outputs": [],
      "source": [
        "# from re import search\n",
        "\n",
        "\n",
        "# more_search = True\n",
        "# first_run = True\n",
        "\n",
        "# while more_search == True:\n",
        "#   chosen_column = int(input('What category would you like to input?\\n1)Name, 2)Platform, 3)Year, 4)Genre, or 5)Publisher '))\n",
        "#   # print(chosen_column)\n",
        "#   search_term = input('Enter search term. ')\n",
        "#   # print(search_term)\n",
        "#   if first_run:\n",
        "#     search_result = df.loc[df.iloc[:,chosen_column].str.contains(search_term, case=False)]\n",
        "#     # print(len(search_result))\n",
        "#   else:\n",
        "#     temp_result = df.loc[df.iloc[:,chosen_column].str.contains(search_term, case=False)]\n",
        "#     # print(len(temp_result))\n",
        "#     search_result = pd.concat([search_result,temp_result]).drop_duplicates()\n",
        "#     # print(len(search_result))\n",
        "\n",
        "#   if len(search_result) == 0:\n",
        "#     print(\"Sorry, that isn't real please try again.\")\n",
        "  \n",
        "#   if input('Do you have additional preferences to set? (y)es / (n)o' ) != 'y':\n",
        "#     more_search = False\n",
        "#   first_run = False\n",
        "\n",
        "\n",
        "# # search_result\n"
      ]
    },
    {
      "cell_type": "code",
      "execution_count": 14,
      "metadata": {
        "id": "FB2m8YzGDMdZ"
      },
      "outputs": [],
      "source": [
        "# search_result.sample(n=10)"
      ]
    },
    {
      "cell_type": "code",
      "execution_count": null,
      "metadata": {
        "id": "oAzxAxICzGIq"
      },
      "outputs": [],
      "source": []
    }
  ],
  "metadata": {
    "colab": {
      "name": "videogame_search.ipynb",
      "provenance": []
    },
    "interpreter": {
      "hash": "0a98d3f48807019338b5ca256bf38773e3bc95e7b827ddda75bb23ca59ff5799"
    },
    "kernelspec": {
      "display_name": "Python 3.6.10 ('PythonData')",
      "language": "python",
      "name": "python3"
    },
    "language_info": {
      "codemirror_mode": {
        "name": "ipython",
        "version": 3
      },
      "file_extension": ".py",
      "mimetype": "text/x-python",
      "name": "python",
      "nbconvert_exporter": "python",
      "pygments_lexer": "ipython3",
      "version": "3.6.10"
    }
  },
  "nbformat": 4,
  "nbformat_minor": 0
}
